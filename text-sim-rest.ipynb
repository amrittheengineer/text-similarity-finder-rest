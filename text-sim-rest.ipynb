{
    "nbformat_minor": 1, 
    "cells": [
        {
            "source": "", 
            "cell_type": "code", 
            "metadata": {}, 
            "outputs": [], 
            "execution_count": null
        }, 
        {
            "source": "", 
            "cell_type": "code", 
            "metadata": {}, 
            "outputs": [], 
            "execution_count": null
        }, 
        {
            "source": "%%writefile similarity.py\ndef app(text1, text2):\n    import re, math\n    from collections import Counter\n    WORD = re.compile(r'\\w+')\n    def get_cosine(vec1, vec2):\n         intersection = set(vec1.keys()) & set(vec2.keys())\n         numerator = sum([vec1[x] * vec2[x] for x in intersection])\n\n         sum1 = sum([vec1[x]**2 for x in vec1.keys()])\n         sum2 = sum([vec2[x]**2 for x in vec2.keys()])\n         denominator = math.sqrt(sum1) * math.sqrt(sum2)\n\n         if not denominator:\n            return 0.0\n         else:\n            return float(numerator) / denominator\n    def text_to_vector(text):\n         words = WORD.findall(text)\n         return Counter(words)\n    def run(txt1, txt2):\n        vector1 = text_to_vector(txt1)\n        vector2 = text_to_vector(txt2)\n        cosine = get_cosine(vector1, vector2)\n        return cosine\n    return run(text1, text2)", 
            "cell_type": "code", 
            "metadata": {}, 
            "outputs": [
                {
                    "output_type": "stream", 
                    "name": "stdout", 
                    "text": "Overwriting similarity.py\n"
                }
            ], 
            "execution_count": 26
        }, 
        {
            "source": "%%writefile my_flask_app.py \nfrom flask import Flask, Response, jsonify \nfrom flask_restplus import Api, Resource, fields, reqparse \nfrom flask_cors import CORS, cross_origin import os \n# the app \napp = Flask(__name__) \nCORS(app) \napi = Api(app, version='1.0', title='APIs for finding text similarity using Python ', validate=False) ns = api.namespace('similarity', 'Returns a similarity index of two sentences') \n# load the algo \nfrom similarity import app as algo \n''' We import our function `app` from the file similarity.py. You create all the classes and functions that you want in that file, and import them into the app. ''' \n# model the input data \nmodel_input = api.model('Sentences', { \"text1\": fields.String, \"text2\": fields.String})\n# the input data type here is Integer. You can change this to whatever works for your app. \n# On Bluemix, get the port number from the environment variable PORT # When running this app on the local machine, default to 8080 \nport = int(os.getenv('PORT', 8080)) \n# The ENDPOINT \n@ns.route('/similarity') \n# the endpoint \nclass SIMILARITY(Resource): \n    @api.response(200, \"Success\", model_input)   \n    @api.expect(model_input)\n    def post(self):\n        parser = reqparse.RequestParser()\n        parser.add_argument('text1', type=str)\n        parser.add_argument('text2', type=str)\n        args = parser.parse_args()\n        inp1 = str(args[\"text1\"])\n        inp2 = str(args[\"text2\"])\n        result = algo(inp1, inp2) \n        return jsonify({\"similarity\": result}) \nif __name__ == '__main__': \n    app.run(host='0.0.0.0', port=port, debug=False) # deploy with debug=False", 
            "cell_type": "code", 
            "metadata": {}, 
            "outputs": [
                {
                    "output_type": "stream", 
                    "name": "stdout", 
                    "text": "Overwriting my_flask_app.py\n"
                }
            ], 
            "execution_count": 27
        }, 
        {
            "source": "%%writefile manifest.yml\n --- applications:\n - name: SIMILARITY_FINDER\n - random-route: true\n - memory: 256M", 
            "cell_type": "code", 
            "metadata": {}, 
            "outputs": [
                {
                    "output_type": "stream", 
                    "name": "stdout", 
                    "text": "Overwriting manifest.yml\n"
                }
            ], 
            "execution_count": 28
        }, 
        {
            "source": "%%writefile Procfile \nweb: python my_flask_app.py", 
            "cell_type": "code", 
            "metadata": {}, 
            "outputs": [
                {
                    "output_type": "stream", 
                    "name": "stdout", 
                    "text": "Overwriting Procfile\n"
                }
            ], 
            "execution_count": 29
        }, 
        {
            "source": "%%writefile README.md \n\"Getting Started with Python Algos on Bluemix\"", 
            "cell_type": "code", 
            "metadata": {}, 
            "outputs": [
                {
                    "output_type": "stream", 
                    "name": "stdout", 
                    "text": "Overwriting README.md\n"
                }
            ], 
            "execution_count": 30
        }, 
        {
            "source": "%%writefile requirements.txt \nFlask==0.11.1 \ncloudant==2.4.0 \nflasgger==0.6.4 \nFlask-Cors==3.0.2 \nFlask-RESTful==0.3.6 \nflask-restplus==0.9.2 \ngevent==1.2.1", 
            "cell_type": "code", 
            "metadata": {}, 
            "outputs": [
                {
                    "output_type": "stream", 
                    "name": "stdout", 
                    "text": "Overwriting requirements.txt\n"
                }
            ], 
            "execution_count": 31
        }, 
        {
            "source": "%%writefile setup.py \n\"\"\" Hello World app for deploying Python functions as APIs on Bluemix \"\"\" \n# Always prefer setuptools over distutils \nfrom setuptools import setup, find_packages \nfrom codecs import open \nfrom os import path \nhere = path.abspath(path.dirname(__file__)) \nwith open(path.join(here, 'README.md'), encoding='utf-8') as f:\n    long_description = f.read() \nsetup( \nname='similarity', \nversion='1.0.0', \ndescription='Running Python apps on Bluemix', long_description=long_description, license='Apache-2.0' \n)", 
            "cell_type": "code", 
            "metadata": {}, 
            "outputs": [
                {
                    "output_type": "stream", 
                    "name": "stdout", 
                    "text": "Overwriting setup.py\n"
                }
            ], 
            "execution_count": 32
        }, 
        {
            "source": "%%writefile LICENSE \n\"\"\"Apache License Version 2.0, January 2004 http://www.apache.org/licenses/ TERMS AND CONDITIONS FOR USE, REPRODUCTION, AND DISTRIBUTION ...\"\"\"", 
            "cell_type": "code", 
            "metadata": {}, 
            "outputs": [
                {
                    "output_type": "stream", 
                    "name": "stdout", 
                    "text": "Overwriting LICENSE\n"
                }
            ], 
            "execution_count": 33
        }, 
        {
            "source": "", 
            "cell_type": "code", 
            "metadata": {}, 
            "outputs": [], 
            "execution_count": null
        }
    ], 
    "metadata": {
        "kernelspec": {
            "display_name": "Python 3.6", 
            "name": "python3", 
            "language": "python"
        }, 
        "language_info": {
            "mimetype": "text/x-python", 
            "nbconvert_exporter": "python", 
            "version": "3.6.8", 
            "name": "python", 
            "pygments_lexer": "ipython3", 
            "file_extension": ".py", 
            "codemirror_mode": {
                "version": 3, 
                "name": "ipython"
            }
        }
    }, 
    "nbformat": 4
}